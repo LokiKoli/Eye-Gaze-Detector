{
 "cells": [
  {
   "cell_type": "code",
   "execution_count": 2,
   "id": "5af44d91",
   "metadata": {},
   "outputs": [],
   "source": [
    "import cv2\n",
    "import numpy as np"
   ]
  },
  {
   "cell_type": "code",
   "execution_count": 3,
   "id": "f82e12f9",
   "metadata": {},
   "outputs": [],
   "source": [
    "#import haarcascades\n",
    "face_cascade=cv2.CascadeClassifier(cv2.data.haarcascades+'haarcascade_frontalface_default.xml')\n",
    "eye_cascade=cv2.CascadeClassifier(cv2.data.haarcascades+'haarcascade_eye.xml')"
   ]
  },
  {
   "cell_type": "code",
   "execution_count": 4,
   "id": "eca3395b",
   "metadata": {},
   "outputs": [
    {
     "name": "stdout",
     "output_type": "stream",
     "text": [
      "267 203 361 188\n",
      "265 212 358 200\n",
      "265 214 356 200\n",
      "264 215 354 200\n",
      "263 214 353 197\n",
      "263 213 355 199\n",
      "263 214 352 199\n",
      "262 215 351 199\n"
     ]
    }
   ],
   "source": [
    "#detect face and eye on webcam + HoughCircle\n",
    "video_capture=cv2.VideoCapture(0)\n",
    "while True:\n",
    "    ret, frame= video_capture.read()\n",
    "    gray=cv2.cvtColor(frame, cv2.COLOR_BGR2GRAY)\n",
    "    gray_blurred=cv2.blur(gray,(3,3))\n",
    "\n",
    "    faces=face_cascade.detectMultiScale(gray,scaleFactor=1.1,minNeighbors=5,minSize=(30,30))\n",
    "    eyes=eye_cascade.detectMultiScale(gray,scaleFactor=1.1,minNeighbors=5,minSize=(30,30))\n",
    "    #HoughCircle works fine in proper lighting\n",
    "    circles=cv2.HoughCircles(gray_blurred,cv2.HOUGH_GRADIENT,1,100,param1=50,param2=30,minRadius=10,maxRadius=30)\n",
    "    if circles is not None:\n",
    "        circles = np.round(circles[0, :]).astype(int)\n",
    "    \n",
    "    # Draw the detected circles on the original image\n",
    "        for (x, y, r) in circles:\n",
    "            cv2.circle(frame, (x, y), r, (0, 0, 255), 2)\n",
    "\n",
    "    for (x,y,w,h) in faces:\n",
    "        cv2.rectangle(frame,(x,y),(x+w,y+h),(0,255,0),2)\n",
    "        \n",
    "    for (x,y,w,h) in eyes:\n",
    "        cv2.rectangle(frame,(x,y),(x+w,y+h),(255,0,0),1)\n",
    "        \n",
    "    x,y,w,h=eyes[0,:]\n",
    "    x1,y1,w1,h1=eyes[1,:]\n",
    "    \n",
    "#     w1=eyes[0,2]\n",
    "#     h1=eyes[0,3]\n",
    "    \n",
    "    \n",
    "    \n",
    "    if (x<x1):\n",
    "        left_eye_x=x\n",
    "        left_eye_y=y\n",
    "        left_eye_w=w\n",
    "        left_eye_h=h\n",
    "        right_eye_x=x1\n",
    "        right_eye_y=y1\n",
    "        right_eye_w=w1\n",
    "        right_eye_h=h1\n",
    "    else:\n",
    "        left_eye_x=x1\n",
    "        left_eye_y=y1\n",
    "        left_eye_w=w1\n",
    "        left_eye_h=h1\n",
    "        right_eye_x=x\n",
    "        right_eye_y=y\n",
    "        right_eye_w=w\n",
    "        right_eye_h=h\n",
    "        \n",
    "    print(left_eye_x,left_eye_y, right_eye_x, right_eye_y)\n",
    "    \n",
    "    cv2.imshow('Detection',frame)\n",
    "    if cv2.waitKey(1) & 0XFF == ord('q'):\n",
    "        break\n",
    "video_capture.release()  \n",
    "cv2.destroyAllWindows()"
   ]
  },
  {
   "cell_type": "code",
   "execution_count": 5,
   "id": "7cebdc08",
   "metadata": {},
   "outputs": [
    {
     "name": "stdout",
     "output_type": "stream",
     "text": [
      "351 199 77 77\n"
     ]
    }
   ],
   "source": [
    "print(x1,y1,w1,h1)"
   ]
  },
  {
   "cell_type": "code",
   "execution_count": 11,
   "id": "b72c4007",
   "metadata": {},
   "outputs": [
    {
     "name": "stdout",
     "output_type": "stream",
     "text": [
      "[[[363.5 424.5  11.8]\n",
      "  [ 52.5 179.5  21.7]]]\n",
      "[[364 424  12]\n",
      " [ 52 180  22]]\n"
     ]
    }
   ],
   "source": [
    "#only HoughCircle is working\n",
    "video_capture=cv2.VideoCapture(0)\n",
    "while True:\n",
    "    ret, frame=video_capture.read()\n",
    "    gray=cv2.cvtColor(frame, cv2.COLOR_BGR2GRAY)\n",
    "    gray_blurred=cv2.blur(gray,(3,3))\n",
    "#     x,y,w,h=faces[0,:]\n",
    "#     roi=gray_blurred[y:y+h,x:x+w]\n",
    "    #HoughCircle works fine in proper lighting\n",
    "    circles=cv2.HoughCircles(gray,cv2.HOUGH_GRADIENT,1,100,param1=50,param2=30,minRadius=10,maxRadius=30)\n",
    "    \n",
    "    print(circles)\n",
    "    \n",
    "    if circles is not None:\n",
    "        circles = np.round(circles[0, :]).astype(int)\n",
    "#     circles=circles[0]\n",
    "        print(circles)\n",
    "        for (x,y,r) in circles:\n",
    "            cv2.circle(frame,(x,y),r,(0,255,0),2)\n",
    "        \n",
    "    cv2.imshow('Detection',frame)\n",
    "    if cv2.waitKey(1) & 0XFF == ord('q'):\n",
    "        break\n",
    "        \n",
    "#         print(circles)\n",
    "#         break\n",
    "    x,y,r=circles[0,:]\n",
    "    x1,y1,r1=circles[1,:]\n",
    "\n",
    "    if (x<x1):\n",
    "        left_pupil_x=x\n",
    "        left_pupil_y=y\n",
    "        right_pupil_x=x1\n",
    "        right_pupil_y=y1\n",
    "    else:\n",
    "        left_pupil_x=x1\n",
    "        left_pupil_y=y1\n",
    "        right_pupil_x=x\n",
    "        right_pupil_y=y\n",
    "    \n",
    "\n",
    "    # Display the image with the detected circles\n",
    "#     cv2.imshow('Detection',frame)\n",
    "#     if cv2.waitKey(1) & 0XFF == ord('q'):\n",
    "#         break\n",
    "video_capture.release()  \n",
    "cv2.destroyAllWindows()\n",
    "        "
   ]
  },
  {
   "cell_type": "code",
   "execution_count": 12,
   "id": "4c430501",
   "metadata": {},
   "outputs": [],
   "source": [
    "horizontalRatio_left=(left_pupil_x-left_eye_x)/(left_eye_w-10)\n",
    "horizontalRatio_right=(right_pupil_x-right_eye_x)/(right_eye_w-10)  # w will almost be same for both eye\n",
    "avg_horizontalRatio=(horizontalRatio_left+horizontalRatio_right)/2\n",
    "\n",
    "verticalRatio_left=(left_pupil_y-left_eye_y)/(left_eye_h-10)\n",
    "verticalRatio_right=(right_pupil_y-right_eye_y)/(right_eye_h-10)\n",
    "avg_verticalRatio=(verticalRatio_left+verticalRatio_right)/2"
   ]
  },
  {
   "cell_type": "code",
   "execution_count": 13,
   "id": "875f142c",
   "metadata": {},
   "outputs": [],
   "source": [
    "def is_left_top():\n",
    "    if(avg_horizontalRatio<0.35 & avg_verticalRatio<0.35):\n",
    "        return True;\n",
    "\n",
    "def is_left_middle():\n",
    "    if(avg_horizontalRatio<0.35 & 0.35<avg_verticalRatio<0.65):\n",
    "        return True;    \n",
    "def is_left_bottom():\n",
    "    if(avg_horizontalRatio<0.35 & avg_verticalRatio>0.65):\n",
    "        return True;\n",
    "    \n",
    "def is_center_top():\n",
    "    if(0.35<avg_horizontalRatio<0.65 & avg_verticalRatio<0.35):\n",
    "        return True;\n",
    "\n",
    "def is_center_middle():\n",
    "    if(0.35<avg_horizontalRatio<0.65 & 0.35<avg_verticalRatio<0.65):\n",
    "        return True;\n",
    "    \n",
    "def is_center_bottom():\n",
    "    if(0.35<avg_horizontalRatio<0.65 & avg_verticalRatio>0.65):\n",
    "        return True;\n",
    "    \n",
    "def is_right_top():\n",
    "    if(avg_horizontalRatio>0.65 & avg_verticalRatio<0.35):\n",
    "        return True;\n",
    "    \n",
    "def is_right_middle():\n",
    "    if(avg_horizontalRatio>0.65 & 0.35<avg_verticalRatio<0.65):\n",
    "        return True;\n",
    "    \n",
    "def is_right_bottom():\n",
    "    if(avg_horizontalRatio>0.65 & avg_verticalRatio>0.65):\n",
    "        return True;"
   ]
  },
  {
   "cell_type": "code",
   "execution_count": 18,
   "id": "242c6589",
   "metadata": {},
   "outputs": [],
   "source": [
    "#debugging code for pupil,face and eye\n",
    "\n",
    "frame=cv2.imread(\"image.jpeg\")\n",
    "gray=cv2.cvtColor(frame, cv2.COLOR_BGR2GRAY)\n",
    "gray_blurred=cv2.blur(gray,(3,3))\n",
    "\n",
    "faces=face_cascade.detectMultiScale(gray,scaleFactor=1.1,minNeighbors=5,minSize=(30,30))\n",
    "circles=cv2.HoughCircles(gray,cv2.HOUGH_GRADIENT,1,100,param1=50,param2=30,minRadius=10,maxRadius=30)\n",
    "eyes=eye_cascade.detectMultiScale(gray,scaleFactor=1.1,minNeighbors=5,minSize=(30,30))\n",
    "\n",
    "circles = np.round(circles[0, :]).astype(int)\n",
    "for (x,y,r) in circles:\n",
    "    cv2.circle(frame,(x,y),r,(0,255,0),2)\n",
    "        \n",
    "# for (x,y,w,h) in faces:\n",
    "#     cv2.rectangle(frame,(x,y),(x+w,y+h),(255,0,0),1)\n",
    "\n",
    "for (x,y,w,h) in eyes:\n",
    "    cv2.rectangle(frame,(x,y),(x+w,y+h),(255,0,0),1)\n",
    "        \n",
    "# print(circles)\n",
    "# print(type(circles))\n",
    "# # print(faces[0,1])\n",
    "# x,y,w,h=faces[0,:]\n",
    "# print(x,y)\n",
    "    \n",
    "cv2.imshow('Detection',frame)\n",
    "cv2.waitKey(0)\n",
    "cv2.destroyAllWindows()"
   ]
  },
  {
   "cell_type": "code",
   "execution_count": 13,
   "id": "614952b1",
   "metadata": {},
   "outputs": [
    {
     "data": {
      "text/plain": [
       "array([[358, 472,  19],\n",
       "       [296, 384,  18]])"
      ]
     },
     "execution_count": 13,
     "metadata": {},
     "output_type": "execute_result"
    }
   ],
   "source": [
    "circles"
   ]
  },
  {
   "cell_type": "code",
   "execution_count": 15,
   "id": "fcb03079",
   "metadata": {},
   "outputs": [
    {
     "data": {
      "text/plain": [
       "array([296, 384,  18])"
      ]
     },
     "execution_count": 15,
     "metadata": {},
     "output_type": "execute_result"
    }
   ],
   "source": [
    "circles[1,:]"
   ]
  },
  {
   "cell_type": "code",
   "execution_count": 48,
   "id": "1bd5933d",
   "metadata": {},
   "outputs": [
    {
     "data": {
      "text/plain": [
       "231"
      ]
     },
     "execution_count": 48,
     "metadata": {},
     "output_type": "execute_result"
    }
   ],
   "source": [
    "x"
   ]
  },
  {
   "cell_type": "code",
   "execution_count": 64,
   "id": "51deb4c6",
   "metadata": {},
   "outputs": [
    {
     "data": {
      "text/plain": [
       "()"
      ]
     },
     "execution_count": 64,
     "metadata": {},
     "output_type": "execute_result"
    }
   ],
   "source": [
    "eyes"
   ]
  },
  {
   "cell_type": "code",
   "execution_count": null,
   "id": "3e835c5d",
   "metadata": {},
   "outputs": [],
   "source": []
  }
 ],
 "metadata": {
  "kernelspec": {
   "display_name": "Python 3 (ipykernel)",
   "language": "python",
   "name": "python3"
  },
  "language_info": {
   "codemirror_mode": {
    "name": "ipython",
    "version": 3
   },
   "file_extension": ".py",
   "mimetype": "text/x-python",
   "name": "python",
   "nbconvert_exporter": "python",
   "pygments_lexer": "ipython3",
   "version": "3.10.5"
  }
 },
 "nbformat": 4,
 "nbformat_minor": 5
}
